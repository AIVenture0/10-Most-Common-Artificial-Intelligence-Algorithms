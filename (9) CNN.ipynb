{
  "nbformat": 4,
  "nbformat_minor": 0,
  "metadata": {
    "colab": {
      "name": "CNN.ipynb",
      "version": "0.3.2",
      "provenance": []
    },
    "kernelspec": {
      "name": "python3",
      "display_name": "Python 3"
    },
    "accelerator": "GPU"
  },
  "cells": [
    {
      "metadata": {
        "id": "y5Woj3fCOG87",
        "colab_type": "text"
      },
      "cell_type": "markdown",
      "source": [
        "# Convolution Neural Network"
      ]
    },
    {
      "metadata": {
        "id": "dsvb6PXzd0VX",
        "colab_type": "code",
        "colab": {}
      },
      "cell_type": "code",
      "source": [
        "import tensorflow as tf\n",
        "from tensorflow.examples.tutorials.mnist import input_data\n",
        "import numpy as np\n",
        "import matplotlib.pyplot as plt\n"
      ],
      "execution_count": 0,
      "outputs": []
    },
    {
      "metadata": {
        "id": "Rg8uALZRd2nI",
        "colab_type": "code",
        "outputId": "9ee1d820-9be0-4932-ce83-c5467840e5a4",
        "colab": {
          "base_uri": "https://localhost:8080/",
          "height": 547
        }
      },
      "cell_type": "code",
      "source": [
        "mnist=input_data.read_data_sets('mnist',one_hot=True)\n",
        "mnist"
      ],
      "execution_count": 0,
      "outputs": [
        {
          "output_type": "stream",
          "text": [
            "WARNING:tensorflow:From <ipython-input-4-6bd1be727d09>:1: read_data_sets (from tensorflow.contrib.learn.python.learn.datasets.mnist) is deprecated and will be removed in a future version.\n",
            "Instructions for updating:\n",
            "Please use alternatives such as official/mnist/dataset.py from tensorflow/models.\n",
            "WARNING:tensorflow:From /usr/local/lib/python3.6/dist-packages/tensorflow/contrib/learn/python/learn/datasets/mnist.py:260: maybe_download (from tensorflow.contrib.learn.python.learn.datasets.base) is deprecated and will be removed in a future version.\n",
            "Instructions for updating:\n",
            "Please write your own downloading logic.\n",
            "WARNING:tensorflow:From /usr/local/lib/python3.6/dist-packages/tensorflow/contrib/learn/python/learn/datasets/base.py:252: _internal_retry.<locals>.wrap.<locals>.wrapped_fn (from tensorflow.contrib.learn.python.learn.datasets.base) is deprecated and will be removed in a future version.\n",
            "Instructions for updating:\n",
            "Please use urllib or similar directly.\n",
            "Successfully downloaded train-images-idx3-ubyte.gz 9912422 bytes.\n",
            "WARNING:tensorflow:From /usr/local/lib/python3.6/dist-packages/tensorflow/contrib/learn/python/learn/datasets/mnist.py:262: extract_images (from tensorflow.contrib.learn.python.learn.datasets.mnist) is deprecated and will be removed in a future version.\n",
            "Instructions for updating:\n",
            "Please use tf.data to implement this functionality.\n",
            "Extracting mnist/train-images-idx3-ubyte.gz\n",
            "Successfully downloaded train-labels-idx1-ubyte.gz 28881 bytes.\n",
            "WARNING:tensorflow:From /usr/local/lib/python3.6/dist-packages/tensorflow/contrib/learn/python/learn/datasets/mnist.py:267: extract_labels (from tensorflow.contrib.learn.python.learn.datasets.mnist) is deprecated and will be removed in a future version.\n",
            "Instructions for updating:\n",
            "Please use tf.data to implement this functionality.\n",
            "Extracting mnist/train-labels-idx1-ubyte.gz\n",
            "WARNING:tensorflow:From /usr/local/lib/python3.6/dist-packages/tensorflow/contrib/learn/python/learn/datasets/mnist.py:110: dense_to_one_hot (from tensorflow.contrib.learn.python.learn.datasets.mnist) is deprecated and will be removed in a future version.\n",
            "Instructions for updating:\n",
            "Please use tf.one_hot on tensors.\n",
            "Successfully downloaded t10k-images-idx3-ubyte.gz 1648877 bytes.\n",
            "Extracting mnist/t10k-images-idx3-ubyte.gz\n",
            "Successfully downloaded t10k-labels-idx1-ubyte.gz 4542 bytes.\n",
            "Extracting mnist/t10k-labels-idx1-ubyte.gz\n",
            "WARNING:tensorflow:From /usr/local/lib/python3.6/dist-packages/tensorflow/contrib/learn/python/learn/datasets/mnist.py:290: DataSet.__init__ (from tensorflow.contrib.learn.python.learn.datasets.mnist) is deprecated and will be removed in a future version.\n",
            "Instructions for updating:\n",
            "Please use alternatives such as official/mnist/dataset.py from tensorflow/models.\n"
          ],
          "name": "stdout"
        },
        {
          "output_type": "execute_result",
          "data": {
            "text/plain": [
              "Datasets(train=<tensorflow.contrib.learn.python.learn.datasets.mnist.DataSet object at 0x7fc4378ec710>, validation=<tensorflow.contrib.learn.python.learn.datasets.mnist.DataSet object at 0x7fc4378ec550>, test=<tensorflow.contrib.learn.python.learn.datasets.mnist.DataSet object at 0x7fc3f2c90cc0>)"
            ]
          },
          "metadata": {
            "tags": []
          },
          "execution_count": 4
        }
      ]
    },
    {
      "metadata": {
        "id": "iTUCbQCHpV9D",
        "colab_type": "code",
        "outputId": "f8a4cd60-87df-4da8-ac00-138c782d2eb1",
        "colab": {
          "base_uri": "https://localhost:8080/",
          "height": 51
        }
      },
      "cell_type": "code",
      "source": [
        "\n",
        "\n",
        "print(mnist.train.images.shape)\n",
        "print(mnist.train.labels.shape)"
      ],
      "execution_count": 0,
      "outputs": [
        {
          "output_type": "stream",
          "text": [
            "(55000, 784)\n",
            "(55000, 10)\n"
          ],
          "name": "stdout"
        }
      ]
    },
    {
      "metadata": {
        "id": "my2e2ZO2pqXA",
        "colab_type": "code",
        "outputId": "4ae8481a-37aa-4148-9abb-2e831a181950",
        "colab": {
          "base_uri": "https://localhost:8080/",
          "height": 51
        }
      },
      "cell_type": "code",
      "source": [
        "print(mnist.test.images.shape)\n",
        "print(mnist.test.labels.shape)"
      ],
      "execution_count": 0,
      "outputs": [
        {
          "output_type": "stream",
          "text": [
            "(10000, 784)\n",
            "(10000, 10)\n"
          ],
          "name": "stdout"
        }
      ]
    },
    {
      "metadata": {
        "id": "1Kq3FpQXqSaX",
        "colab_type": "code",
        "colab": {}
      },
      "cell_type": "code",
      "source": [
        "\n",
        "\n",
        "new=mnist.train.images[1]\n",
        "new_1=np.resize(new,(28,28))\n"
      ],
      "execution_count": 0,
      "outputs": []
    },
    {
      "metadata": {
        "id": "7bdT8-r-qeTd",
        "colab_type": "code",
        "outputId": "d61c5a40-00c1-4d86-8fd4-5d91492907e3",
        "colab": {
          "base_uri": "https://localhost:8080/",
          "height": 364
        }
      },
      "cell_type": "code",
      "source": [
        "plt.imshow(new_1,cmap='Dark2')"
      ],
      "execution_count": 0,
      "outputs": [
        {
          "output_type": "execute_result",
          "data": {
            "text/plain": [
              "<matplotlib.image.AxesImage at 0x7fc3effb44a8>"
            ]
          },
          "metadata": {
            "tags": []
          },
          "execution_count": 8
        },
        {
          "output_type": "display_data",
          "data": {
            "image/png": "[encoded data removed]",
            "text/plain": [
              "<matplotlib.figure.Figure at 0x7fc3f2c77278>"
            ]
          },
          "metadata": {
            "tags": []
          }
        }
      ]
    },
    {
      "metadata": {
        "id": "ahHspN7WrVYS",
        "colab_type": "code",
        "colab": {}
      },
      "cell_type": "code",
      "source": [
        "%matplotlib inline\n",
        "import matplotlib.pyplot as plt\n",
        "import tensorflow as tf\n",
        "import numpy as np\n",
        "from sklearn.metrics import confusion_matrix\n",
        "import math"
      ],
      "execution_count": 0,
      "outputs": []
    },
    {
      "metadata": {
        "id": "YMV_4GWV5Whh",
        "colab_type": "text"
      },
      "cell_type": "markdown",
      "source": [
        "#### Variables to be used later in our implementation.\n",
        "\n",
        "\n"
      ]
    },
    {
      "metadata": {
        "id": "WEYfkDTz6btg",
        "colab_type": "text"
      },
      "cell_type": "markdown",
      "source": [
        "### Building the model"
      ]
    },
    {
      "metadata": {
        "id": "Sc5P-PS16H4D",
        "colab_type": "code",
        "colab": {}
      },
      "cell_type": "code",
      "source": [
        "# Parameters\n",
        "learning_rate = 0.01\n",
        "training_epochs = 50 # training epoch\n",
        "batch_size = 128\n",
        "display_step = 10\n"
      ],
      "execution_count": 0,
      "outputs": []
    },
    {
      "metadata": {
        "id": "ID3Vcc09-S36",
        "colab_type": "code",
        "colab": {}
      },
      "cell_type": "code",
      "source": [
        "\n",
        "# Network Parameters\n",
        "n_input = 784  # MNIST data input (img shape: 28*28)\n",
        "n_classes = 10  # MNIST total classes (0-9 digits)\n",
        "dropout = 0.75  # Dropout, probability to keep units\n"
      ],
      "execution_count": 0,
      "outputs": []
    },
    {
      "metadata": {
        "id": "DfFNiA1QlP1d",
        "colab_type": "code",
        "colab": {}
      },
      "cell_type": "code",
      "source": [
        ""
      ],
      "execution_count": 0,
      "outputs": []
    },
    {
      "metadata": {
        "id": "dZScRGBw-jxk",
        "colab_type": "text"
      },
      "cell_type": "markdown",
      "source": [
        "#### tf graph input"
      ]
    },
    {
      "metadata": {
        "id": "nhPEWYNv-W_Z",
        "colab_type": "code",
        "colab": {}
      },
      "cell_type": "code",
      "source": [
        "x=tf.placeholder(tf.float32,[None,n_input])\n",
        "y=tf.placeholder(tf.float32,[None,n_classes])\n",
        "\n",
        "keep_prob = tf.placeholder(tf.float32)"
      ],
      "execution_count": 0,
      "outputs": []
    },
    {
      "metadata": {
        "id": "6V_B4vUI-5SR",
        "colab_type": "code",
        "colab": {}
      },
      "cell_type": "code",
      "source": [
        "# Creating the Convolution.\n",
        "def conv2d(x,w,b,stride=1):\n",
        "  \n",
        "  \n",
        "  x = tf.nn.conv2d(x, W, strides=[1, strides, strides, 1], padding='SAME')\n",
        "  x = tf.nn.bias_add(x, b)\n",
        "  return tf.nn.relu(x)\n"
      ],
      "execution_count": 0,
      "outputs": []
    },
    {
      "metadata": {
        "id": "h-l0nc1X_X-Y",
        "colab_type": "code",
        "colab": {}
      },
      "cell_type": "code",
      "source": [
        "#Creating the MaxPool.\n",
        "#Maxpool layer.\n",
        "def maxpool2d(x,k=2):\n",
        "    return tf.nn.max_pool(x,ksize=[1,k,k,1],stride=[1,k,k,1],padding='SAME')\n"
      ],
      "execution_count": 0,
      "outputs": []
    },
    {
      "metadata": {
        "id": "8OjpMB1834a_",
        "colab_type": "code",
        "outputId": "c73c1e3e-5721-4915-d7d2-97e8bf978445",
        "colab": {
          "base_uri": "https://localhost:8080/",
          "height": 1751
        }
      },
      "cell_type": "code",
      "source": [
        "def model(x,weight,biase,dropout):\n",
        "    \n",
        "    # Reshape input picture\n",
        "    x = tf.reshape(x, shape=[-1, 28, 28, 1])\n",
        "    #Layer 1\n",
        "    conv1=tf.nn.conv2d(x,weight['w1'],strides=[1,1,1,1],padding='SAME')\n",
        "    hidden1=tf.nn.relu(conv1+biase['b1'])\n",
        "    # Max Pooling (down-sampling)\n",
        "    pool1=tf.nn.max_pool(hidden1,[1,2,2,1],[1,2,2,1],padding='SAME')\n",
        "    #Layer 2\n",
        "    conv2=tf.nn.conv2d(pool1,weight['w2'],strides=[1,1,1,1],padding='SAME')\n",
        "    hidden2=tf.nn.relu(conv2+biase['b2'])\n",
        "    # Max Pooling (down-sampling)\n",
        "    pool2=tf.nn.max_pool(hidden2,[1,2,2,1],[1,2,2,1],padding='SAME')\n",
        "    \n",
        "     # Flattern the convolution output\n",
        "        \n",
        "#    shape = pool2.get_shape().as_list()\n",
        "#    reshape=tf.reshape(pool2,[shape[0],shape[1]*shape[2]*shape[3]])\n",
        "\n",
        "    # Fully connected layer\n",
        "    # Reshape conv2 output to fit fully connected layer input\n",
        "    fc1=tf.reshape(pool2,[-1,weight['wc1'].get_shape().as_list()[0]])\n",
        "    fc1=tf.add(tf.matmul(fc1,weight['wc1']),biase['bc1'])\n",
        "    fc1=tf.nn.relu(fc1)\n",
        "    # add dropout\n",
        "    fc1 = tf.nn.dropout(fc1, keep_prob)\n",
        "    #output.\n",
        "    \n",
        "    output=tf.add(tf.matmul(fc1,weight['w_out']),biase['b_out'])\n",
        "    return output\n",
        "#create the layer of weight and biases.\n",
        "  \n",
        "    \n",
        "   # 5x5 conv, 1 input, 32 outputs\n",
        "  \n",
        "weight={'w1':tf.Variable(tf.random_normal([5,5,1,32])),\n",
        "       'w2':tf.Variable(tf.random_normal([5,5,32,64])),\n",
        "       # fully connected, 7*7*64 inputs, 1024 outputs \n",
        "       'wc1':tf.Variable(tf.random_normal([7*7*64,1024])), \n",
        "       #1024 input and 10 output\n",
        "       'w_out':tf.Variable(tf.random_normal([1024,n_classes]))}\n",
        "  \n",
        "    \n",
        "biase={'b1':tf.Variable(tf.random_normal([32])),\n",
        "       'b2':tf.Variable(tf.random_normal([64])),\n",
        "       'bc1':tf.Variable(tf.random_normal([1024])),\n",
        "       'b_out':tf.Variable(tf.random_normal([n_classes]))}\n",
        "                             \n",
        "    \n",
        "    \n",
        "# Construct model\n",
        "pred=model(x,weight,biase,keep_prob)\n",
        "\n",
        "# Define loss and optimizer\n",
        "cost=tf.reduce_mean(tf.nn.softmax_cross_entropy_with_logits_v2(labels=y,logits=pred))\n",
        "#Optimizer.\n",
        "\n",
        "optimizer=tf.train.AdamOptimizer().minimize(cost)\n",
        "\n",
        "\n",
        "# Evaluate model\n",
        "correct_pred = tf.equal(tf.argmax(pred, 1), tf.argmax(y, 1))\n",
        "accuracy = tf.reduce_mean(tf.cast(correct_pred, tf.float32))\n",
        "    \n",
        "    \n",
        "# Initializing the variables\n",
        "init=tf.global_variables_initializer()\n",
        "\n",
        "# Initialize the session.\n",
        "with tf.Session() as sess:\n",
        "    sess.run(init)\n",
        "    for epoch in range(training_epochs):\n",
        "        \n",
        "        avg_cost=0.0\n",
        "        avg_accuracy=0.0\n",
        "        n_batch=int(mnist.train.num_examples/batch_size)\n",
        "        for i in range(n_batch):\n",
        "            batch_x,batch_y=mnist.train.next_batch(batch_size)\n",
        "            _,batch_cost,batch_acc=sess.run([optimizer,cost,accuracy],feed_dict={x:batch_x,y:batch_y,keep_prob:dropout})\n",
        "            avg_cost+=batch_cost/n_batch\n",
        "            avg_accuracy+=batch_acc/n_batch\n",
        "            \n",
        "        print('The epoch',epoch)\n",
        "        print('The avg _cost is{} and the avg_accuracy is {}'.format(avg_cost,avg_accuracy))\n",
        "    \n",
        "          \n",
        "            \n",
        "          \n",
        "    print(\"Optimization Finished!\")\n",
        "    \n",
        "    print(\"Testing Accuracy:\", \\\n",
        "          sess.run(accuracy, feed_dict={x: mnist.test.images[:256],\n",
        "                                        y: mnist.test.labels[:256],\n",
        "                                        keep_prob: 1.}))\n",
        "                \n",
        "                \n",
        "            \n",
        "\n",
        "    \n",
        "    "
      ],
      "execution_count": 0,
      "outputs": [
        {
          "output_type": "stream",
          "text": [
            "The epoch 0\n",
            "The avg _cost is5734.256632202426 and the avg_accuracy is 0.7872778263403257\n",
            "The epoch 1\n",
            "The avg _cost is832.3269768205843 and the avg_accuracy is 0.9218385780885782\n",
            "The epoch 2\n",
            "The avg _cost is438.4687374177239 and the avg_accuracy is 0.9420527389277397\n",
            "The epoch 3\n",
            "The avg _cost is258.3714501529862 and the avg_accuracy is 0.9566579254079268\n",
            "The epoch 4\n",
            "The avg _cost is186.21455447323657 and the avg_accuracy is 0.9629953379953393\n",
            "The epoch 5\n",
            "The avg _cost is133.10081047556054 and the avg_accuracy is 0.96989729020979\n",
            "The epoch 6\n",
            "The avg _cost is106.432566760668 and the avg_accuracy is 0.9723193473193475\n",
            "The epoch 7\n",
            "The avg _cost is77.3293100459315 and the avg_accuracy is 0.9769085081585078\n",
            "The epoch 8\n",
            "The avg _cost is62.659016896482065 and the avg_accuracy is 0.9796219405594399\n",
            "The epoch 9\n",
            "The avg _cost is51.587387914146326 and the avg_accuracy is 0.9819347319347327\n",
            "The epoch 10\n",
            "The avg _cost is40.46281712072613 and the avg_accuracy is 0.983974358974359\n",
            "The epoch 11\n",
            "The avg _cost is33.88735428945723 and the avg_accuracy is 0.9861232517482528\n",
            "The epoch 12\n",
            "The avg _cost is28.039997165647083 and the avg_accuracy is 0.986815268065269\n",
            "The epoch 13\n",
            "The avg _cost is25.48954755944875 and the avg_accuracy is 0.9877804487179491\n",
            "The epoch 14\n",
            "The avg _cost is21.0198769730175 and the avg_accuracy is 0.9896379662004673\n",
            "The epoch 15\n",
            "The avg _cost is19.251803630617783 and the avg_accuracy is 0.9904938811188829\n",
            "The epoch 16\n",
            "The avg _cost is17.287439986768167 and the avg_accuracy is 0.9910766317016343\n",
            "The epoch 17\n",
            "The avg _cost is15.939525111849774 and the avg_accuracy is 0.9916047494172524\n",
            "The epoch 18\n",
            "The avg _cost is13.987083506316711 and the avg_accuracy is 0.9921146561771585\n",
            "The epoch 19\n",
            "The avg _cost is13.648278536704858 and the avg_accuracy is 0.9923696095571124\n",
            "The epoch 20\n",
            "The avg _cost is10.461694165889174 and the avg_accuracy is 0.9938993298368332\n",
            "The epoch 21\n",
            "The avg _cost is11.290969995230604 and the avg_accuracy is 0.9935715326340356\n",
            "The epoch 22\n",
            "The avg _cost is9.703076523534094 and the avg_accuracy is 0.9939721736596766\n",
            "The epoch 23\n",
            "The avg _cost is10.35271300448133 and the avg_accuracy is 0.9940814393939424\n",
            "The epoch 24\n",
            "The avg _cost is8.308453066539368 and the avg_accuracy is 0.9951012529137565\n",
            "The epoch 25\n",
            "The avg _cost is6.9308557503342225 and the avg_accuracy is 0.9958661130536172\n",
            "The epoch 26\n",
            "The avg _cost is7.607304343173184 and the avg_accuracy is 0.9951012529137562\n",
            "The epoch 27\n",
            "The avg _cost is8.590315440126933 and the avg_accuracy is 0.995028409090913\n",
            "The epoch 28\n",
            "The avg _cost is6.338906356252919 and the avg_accuracy is 0.9961210664335702\n",
            "The epoch 29\n",
            "The avg _cost is7.196810233248248 and the avg_accuracy is 0.9960482226107266\n",
            "The epoch 30\n",
            "The avg _cost is5.8751146167469885 and the avg_accuracy is 0.9965399184149226\n",
            "The epoch 31\n",
            "The avg _cost is5.656606026978607 and the avg_accuracy is 0.9959571678321717\n",
            "The epoch 32\n",
            "The avg _cost is5.533664808836687 and the avg_accuracy is 0.9965399184149223\n",
            "The epoch 33\n",
            "The avg _cost is5.888389964562749 and the avg_accuracy is 0.9965945512820554\n",
            "The epoch 34\n",
            "The avg _cost is5.629824439117062 and the avg_accuracy is 0.9965034965035007\n",
            "The epoch 35\n",
            "The avg _cost is5.355780052040366 and the avg_accuracy is 0.9966673951048991\n",
            "The epoch 36\n",
            "The avg _cost is5.3655853597229575 and the avg_accuracy is 0.9971044580419621\n",
            "The epoch 37\n",
            "The avg _cost is3.7957846379354767 and the avg_accuracy is 0.9973958333333376\n",
            "The epoch 38\n",
            "The avg _cost is3.244898700491809 and the avg_accuracy is 0.9977600524475567\n",
            "The epoch 39\n",
            "The avg _cost is4.6617671601943185 and the avg_accuracy is 0.9969223484848523\n",
            "The epoch 40\n",
            "The avg _cost is4.186788444732227 and the avg_accuracy is 0.9974868881118926\n",
            "The epoch 41\n",
            "The avg _cost is4.393091810472085 and the avg_accuracy is 0.9971955128205169\n",
            "The epoch 42\n",
            "The avg _cost is3.607455381563494 and the avg_accuracy is 0.9976325757575801\n",
            "The epoch 43\n",
            "The avg _cost is3.6069938152993757 and the avg_accuracy is 0.9976872086247126\n",
            "The epoch 44\n",
            "The avg _cost is2.249963486918829 and the avg_accuracy is 0.9983428030303075\n",
            "The epoch 45\n",
            "The avg _cost is2.363467735115169 and the avg_accuracy is 0.998160693473198\n"
          ],
          "name": "stdout"
        },
        {
          "output_type": "stream",
          "text": [
            "The epoch 46\n",
            "The avg _cost is3.6333808405650325 and the avg_accuracy is 0.9977600524475567\n",
            "The epoch 47\n",
            "The avg _cost is3.4322766759408228 and the avg_accuracy is 0.997577942890447\n",
            "The epoch 48\n",
            "The avg _cost is3.9974624934000564 and the avg_accuracy is 0.9974868881118925\n",
            "The epoch 49\n",
            "The avg _cost is2.8441827305633844 and the avg_accuracy is 0.9979785839160886\n",
            "Optimization Finished!\n",
            "Testing Accuracy: 0.99609375\n"
          ],
          "name": "stdout"
        }
      ]
    },
    {
      "metadata": {
        "id": "8pEQreM33_wX",
        "colab_type": "code",
        "colab": {}
      },
      "cell_type": "code",
      "source": [
        ""
      ],
      "execution_count": 0,
      "outputs": []
    }
  ]
}