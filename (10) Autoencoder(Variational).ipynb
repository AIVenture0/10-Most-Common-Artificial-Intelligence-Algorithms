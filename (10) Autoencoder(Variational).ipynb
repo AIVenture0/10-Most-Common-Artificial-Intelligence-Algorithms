{
  "nbformat": 4,
  "nbformat_minor": 0,
  "metadata": {
    "colab": {
      "name": "Variational autoencoder.ipynb",
      "version": "0.3.2",
      "provenance": []
    },
    "kernelspec": {
      "name": "python3",
      "display_name": "Python 3"
    },
    "accelerator": "GPU"
  },
  "cells": [
    {
      "metadata": {
        "id": "FjF6E_WS14ow",
        "colab_type": "code",
        "outputId": "d367595b-083a-4b17-9522-a2de7c7bc268",
        "colab": {
          "base_uri": "https://localhost:8080/",
          "height": 35
        }
      },
      "cell_type": "code",
      "source": [
        "import tensorflow as tf\n",
        "device_name=tf.test.gpu_device_name()\n",
        "\n",
        "if device_name!='/device:GPU:0':\n",
        "  raise SystemError('GPU Not found')\n",
        "  \n",
        "print('Found GPU at {}'.format(device_name))"
      ],
      "execution_count": 0,
      "outputs": [
        {
          "output_type": "stream",
          "text": [
            "Found GPU at /device:GPU:0\n"
          ],
          "name": "stdout"
        }
      ]
    },
    {
      "metadata": {
        "id": "SlF7X3ow1GCZ",
        "colab_type": "code",
        "outputId": "82204131-7bd6-451b-a3ca-4d157a40dccb",
        "colab": {
          "base_uri": "https://localhost:8080/",
          "height": 643
        }
      },
      "cell_type": "code",
      "source": [
        "mnist=tf.contrib.learn.datasets.load_dataset('mnist')\n"
      ],
      "execution_count": 0,
      "outputs": [
        {
          "output_type": "stream",
          "text": [
            "WARNING:tensorflow:From <ipython-input-8-2cb1773c182a>:1: load_dataset (from tensorflow.contrib.learn.python.learn.datasets) is deprecated and will be removed in a future version.\n",
            "Instructions for updating:\n",
            "Please use tf.data.\n",
            "WARNING:tensorflow:From /usr/local/lib/python3.6/dist-packages/tensorflow/contrib/learn/python/learn/datasets/__init__.py:80: load_mnist (from tensorflow.contrib.learn.python.learn.datasets.mnist) is deprecated and will be removed in a future version.\n",
            "Instructions for updating:\n",
            "Please use alternatives such as official/mnist/dataset.py from tensorflow/models.\n",
            "WARNING:tensorflow:From /usr/local/lib/python3.6/dist-packages/tensorflow/contrib/learn/python/learn/datasets/mnist.py:300: read_data_sets (from tensorflow.contrib.learn.python.learn.datasets.mnist) is deprecated and will be removed in a future version.\n",
            "Instructions for updating:\n",
            "Please use alternatives such as official/mnist/dataset.py from tensorflow/models.\n",
            "WARNING:tensorflow:From /usr/local/lib/python3.6/dist-packages/tensorflow/contrib/learn/python/learn/datasets/mnist.py:260: maybe_download (from tensorflow.contrib.learn.python.learn.datasets.base) is deprecated and will be removed in a future version.\n",
            "Instructions for updating:\n",
            "Please write your own downloading logic.\n",
            "WARNING:tensorflow:From /usr/local/lib/python3.6/dist-packages/tensorflow/contrib/learn/python/learn/datasets/base.py:252: _internal_retry.<locals>.wrap.<locals>.wrapped_fn (from tensorflow.contrib.learn.python.learn.datasets.base) is deprecated and will be removed in a future version.\n",
            "Instructions for updating:\n",
            "Please use urllib or similar directly.\n",
            "Successfully downloaded train-images-idx3-ubyte.gz 9912422 bytes.\n",
            "WARNING:tensorflow:From /usr/local/lib/python3.6/dist-packages/tensorflow/contrib/learn/python/learn/datasets/mnist.py:262: extract_images (from tensorflow.contrib.learn.python.learn.datasets.mnist) is deprecated and will be removed in a future version.\n",
            "Instructions for updating:\n",
            "Please use tf.data to implement this functionality.\n",
            "Extracting MNIST-data/train-images-idx3-ubyte.gz\n",
            "Successfully downloaded train-labels-idx1-ubyte.gz 28881 bytes.\n",
            "WARNING:tensorflow:From /usr/local/lib/python3.6/dist-packages/tensorflow/contrib/learn/python/learn/datasets/mnist.py:267: extract_labels (from tensorflow.contrib.learn.python.learn.datasets.mnist) is deprecated and will be removed in a future version.\n",
            "Instructions for updating:\n",
            "Please use tf.data to implement this functionality.\n",
            "Extracting MNIST-data/train-labels-idx1-ubyte.gz\n",
            "Successfully downloaded t10k-images-idx3-ubyte.gz 1648877 bytes.\n",
            "Extracting MNIST-data/t10k-images-idx3-ubyte.gz\n",
            "Successfully downloaded t10k-labels-idx1-ubyte.gz 4542 bytes.\n",
            "Extracting MNIST-data/t10k-labels-idx1-ubyte.gz\n",
            "WARNING:tensorflow:From /usr/local/lib/python3.6/dist-packages/tensorflow/contrib/learn/python/learn/datasets/mnist.py:290: DataSet.__init__ (from tensorflow.contrib.learn.python.learn.datasets.mnist) is deprecated and will be removed in a future version.\n",
            "Instructions for updating:\n",
            "Please use alternatives such as official/mnist/dataset.py from tensorflow/models.\n",
            "Datasets(train=<tensorflow.contrib.learn.python.learn.datasets.mnist.DataSet object at 0x7f9e70fc8f28>, validation=<tensorflow.contrib.learn.python.learn.datasets.mnist.DataSet object at 0x7f9e4e3a7f28>, test=<tensorflow.contrib.learn.python.learn.datasets.mnist.DataSet object at 0x7f9e4f432400>)\n"
          ],
          "name": "stdout"
        }
      ]
    },
    {
      "metadata": {
        "id": "_c_Gwsr92aST",
        "colab_type": "code",
        "outputId": "2f7ac1b9-91a1-4fe3-f931-60af606b2261",
        "colab": {
          "base_uri": "https://localhost:8080/",
          "height": 35
        }
      },
      "cell_type": "code",
      "source": [
        "print(mnist.train.images[1].shape)\n",
        "\n",
        "from functools import partial"
      ],
      "execution_count": 0,
      "outputs": [
        {
          "output_type": "stream",
          "text": [
            "(784,)\n"
          ],
          "name": "stdout"
        }
      ]
    },
    {
      "metadata": {
        "id": "783z3Oss3Cx-",
        "colab_type": "code",
        "colab": {}
      },
      "cell_type": "code",
      "source": [
        "n_inputs = 28 * 28\n",
        "n_hidden1 = 500\n",
        "n_hidden2 = 500\n",
        "n_hidden3 = 20  # codings layer\n",
        "n_hidden4 = n_hidden2\n",
        "n_hidden5 = n_hidden1\n",
        "n_outputs = n_inputs\n",
        "learning_rate = 0.001"
      ],
      "execution_count": 0,
      "outputs": []
    },
    {
      "metadata": {
        "id": "HGXmIpLe3UsT",
        "colab_type": "code",
        "colab": {}
      },
      "cell_type": "code",
      "source": [
        "initializer=tf.contrib.layers.variance_scaling_initializer()\n",
        "tf_dense_layer=partial(tf.layers.dense,\n",
        "                       activation=tf.nn.elu,\n",
        "                       kernel_initializer=initializer)"
      ],
      "execution_count": 0,
      "outputs": []
    },
    {
      "metadata": {
        "id": "I4hcx2lK350e",
        "colab_type": "code",
        "colab": {}
      },
      "cell_type": "code",
      "source": [
        "X=tf.placeholder(tf.float32, shape=[None,n_inputs])\n",
        "hidden1=tf_dense_layer(X,n_hidden1)\n",
        "hidden2=tf_dense_layer(hidden1,n_hidden2)\n",
        "\n",
        "hidden3_mean=tf_dense_layer(hidden2,n_hidden3,activation=None)\n",
        "hidden3_gamma=tf_dense_layer(hidden2,n_hidden3,activation=None)\n",
        "\n",
        "#add gaussian noise hidden3_gamma\n",
        "noise=tf.random_normal(tf.shape(hidden3_gamma),dtype=tf.float32)\n",
        "#actual third hidden layer \n",
        "#coding layer\n",
        "hidden3=hidden3_mean+tf.exp(0.5*hidden3_gamma)*noise\n",
        "\n",
        "hidden4=tf_dense_layer(hidden3,n_hidden4)\n",
        "hidden5=tf_dense_layer(hidden4,n_hidden5)\n",
        "\n",
        "logits=tf_dense_layer(hidden5,n_outputs,activation=None)\n",
        "output=tf.sigmoid(logits)\n"
      ],
      "execution_count": 0,
      "outputs": []
    },
    {
      "metadata": {
        "id": "1AVt8N9t7gqU",
        "colab_type": "code",
        "colab": {}
      },
      "cell_type": "code",
      "source": [
        "xentropy=tf.nn.sigmoid_cross_entropy_with_logits(labels=X, logits=logits)"
      ],
      "execution_count": 0,
      "outputs": []
    },
    {
      "metadata": {
        "id": "I6kBJ1z273RW",
        "colab_type": "code",
        "colab": {}
      },
      "cell_type": "code",
      "source": [
        "reconst_loss=tf.reduce_sum(xentropy)\n",
        "latent_loss = 0.5 * tf.reduce_sum(\n",
        "    tf.exp(hidden3_gamma) + tf.square(hidden3_mean) - 1 - hidden3_gamma)\n",
        "\n",
        "actual_loss=reconst_loss+latent_loss\n",
        "\n",
        "Optimizer=tf.train.AdamOptimizer(learning_rate=learning_rate)\n",
        "\n",
        "training_op=Optimizer.minimize(actual_loss)"
      ],
      "execution_count": 0,
      "outputs": []
    },
    {
      "metadata": {
        "id": "ZggPx7ky9Eri",
        "colab_type": "code",
        "colab": {}
      },
      "cell_type": "code",
      "source": [
        "init=tf.global_variables_initializer()\n",
        "saver=tf.train.Saver()\n",
        "import matplotlib.pyplot as plt"
      ],
      "execution_count": 0,
      "outputs": []
    },
    {
      "metadata": {
        "id": "LHt5kjbm9QO0",
        "colab_type": "code",
        "outputId": "ca38c560-2d95-4c28-8bcd-15c0aaf117ed",
        "colab": {
          "base_uri": "https://localhost:8080/",
          "height": 35
        }
      },
      "cell_type": "code",
      "source": [
        "# Generating digits using randome thing \n",
        "import numpy as np\n",
        "\n",
        "n_digits = 60\n",
        "codings_rnd = np.random.normal(size=[n_digits, n_hidden3])\n",
        "print(codings_rnd.shape)\n",
        "n_epochs=50\n",
        "batch_size=150\n",
        "\n",
        "with tf.Session() as sess:\n",
        "  sess.run(init)\n",
        "  for epoch in range(n_epochs):\n",
        "    number_batches=mnist.train.num_examples//batch_size\n",
        "    for iteration in range(number_batches):\n",
        "      \n",
        "      X_batch, y_batch = mnist.train.next_batch(batch_size)\n",
        "      sess.run(training_op,feed_dict={X:X_batch})\n",
        "      \n",
        "      \n",
        "  out=output.eval(feed_dict={hidden3:codings_rnd})\n",
        "  \n",
        "  \n"
      ],
      "execution_count": 0,
      "outputs": [
        {
          "output_type": "stream",
          "text": [
            "(60, 20)\n"
          ],
          "name": "stdout"
        }
      ]
    },
    {
      "metadata": {
        "id": "CbMyLvFYC3ZS",
        "colab_type": "code",
        "outputId": "c93356ea-2133-4665-ac73-70da5ec058e7",
        "colab": {
          "base_uri": "https://localhost:8080/",
          "height": 365
        }
      },
      "cell_type": "code",
      "source": [
        "import matplotlib.pyplot as plt\n",
        "\n",
        "#for i in range(2):\n",
        "#  plt.subplot(n_digits,10,i+1)\n",
        "\n",
        "plt.imshow((out[4]).reshape(28,28))"
      ],
      "execution_count": 0,
      "outputs": [
        {
          "output_type": "execute_result",
          "data": {
            "text/plain": [
              "<matplotlib.image.AxesImage at 0x7f9e254880b8>"
            ]
          },
          "metadata": {
            "tags": []
          },
          "execution_count": 92
        },
        {
          "output_type": "display_data",
          "data": {
            "image/png": "[encoded data removed]",
            "text/plain": [
              "<matplotlib.figure.Figure at 0x7f9e257cb668>"
            ]
          },
          "metadata": {
            "tags": []
          }
        }
      ]
    }
  ]
}